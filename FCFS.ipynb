{
 "cells": [
  {
   "cell_type": "code",
   "execution_count": 1,
   "metadata": {},
   "outputs": [
    {
     "name": "stdout",
     "output_type": "stream",
     "text": [
      "Enter the number of process: \n",
      "5\n",
      "Enter the burst time of the processes: \n",
      "\n",
      "5 9 7 2 4\n",
      "\n",
      "\n",
      "Process\t  Burst Time\t  Waiting Time\t  Turn Around Time\n",
      "0\t\t5\t\t0\t\t5\n",
      "\n",
      "\n",
      "1\t\t9\t\t5\t\t14\n",
      "\n",
      "\n",
      "2\t\t7\t\t14\t\t21\n",
      "\n",
      "\n",
      "3\t\t2\t\t21\t\t23\n",
      "\n",
      "\n",
      "4\t\t4\t\t23\t\t27\n",
      "\n",
      "\n",
      "Average Waiting time is: 12.6\n",
      "Average Turn Arount Time is: 17.0\n"
     ]
    }
   ],
   "source": [
    "bt=[]\n",
    "print(\"Enter the number of process: \")\n",
    "n=int(input())\n",
    "print(\"Enter the burst time of the processes: \\n\")\n",
    "bt=list(map(int, input().split()))\n",
    "\n",
    "wt=[]\n",
    "totwt=0\n",
    "tat=[]\n",
    "tottat=0\n",
    "\n",
    "wt.insert(0,0)\n",
    "tat.insert(0,bt[0])\n",
    "\n",
    "for i in range(1,len(bt)):\n",
    "    wt.insert(i,wt[i-1]+bt[i-1])\n",
    "    tat.insert(i,wt[i]+bt[i])\n",
    "    totwt+=wt[i]\n",
    "    tottat+=tat[i]\n",
    "\n",
    "avgwt=float(totwt)/n\n",
    "avgtat=float(tottat)/n\n",
    "print(\"\\n\")\n",
    "print(\"Process\\t  Burst Time\\t  Waiting Time\\t  Turn Around Time\")\n",
    "\n",
    "for i in range(0,n):\n",
    "    print(str(i)+\"\\t\\t\"+str(bt[i])+\"\\t\\t\"+str(wt[i])+\"\\t\\t\"+str(tat[i]))\n",
    "    print(\"\\n\")\n",
    "\n",
    "print(\"Average Waiting time is: \"+str(avgwt))\n",
    "print(\"Average Turn Arount Time is: \"+str(avgtat))"
   ]
  },
  {
   "cell_type": "code",
   "execution_count": null,
   "metadata": {},
   "outputs": [],
   "source": []
  }
 ],
 "metadata": {
  "kernelspec": {
   "display_name": "Python 3",
   "language": "python",
   "name": "python3"
  },
  "language_info": {
   "codemirror_mode": {
    "name": "ipython",
    "version": 3
   },
   "file_extension": ".py",
   "mimetype": "text/x-python",
   "name": "python",
   "nbconvert_exporter": "python",
   "pygments_lexer": "ipython3",
   "version": "3.8.3"
  }
 },
 "nbformat": 4,
 "nbformat_minor": 4
}
